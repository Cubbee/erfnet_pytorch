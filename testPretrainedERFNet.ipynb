{
  "nbformat": 4,
  "nbformat_minor": 0,
  "metadata": {
    "colab": {
      "name": "Untitled",
      "version": "0.3.2",
      "provenance": []
    },
    "kernelspec": {
      "name": "python3",
      "display_name": "Python 3"
    },
    "accelerator": "GPU"
  },
  "cells": [
    {
      "cell_type": "markdown",
      "metadata": {
        "id": "view-in-github",
        "colab_type": "text"
      },
      "source": [
        "[View in Colaboratory](https://colab.research.google.com/github/heumchri/erfnet_pytorch/blob/master/testPretrainedERFNet.ipynb)"
      ]
    },
    {
      "metadata": {
        "id": "ed-8FUn2GqQ4",
        "colab_type": "code",
        "colab": {
          "base_uri": "https://localhost:8080/",
          "height": 168
        },
        "outputId": "dcfcf385-9b7c-4e20-ca70-d6d4ee50280e"
      },
      "cell_type": "code",
      "source": [
        "# memory footprint support libraries/code\n",
        "!ln -sf /opt/bin/nvidia-smi /usr/bin/nvidia-smi\n",
        "!pip install gputil\n",
        "!pip install psutil\n",
        "!pip install humanize\n",
        "import psutil\n",
        "import humanize\n",
        "import os\n",
        "import GPUtil as GPU\n",
        "GPUs = GPU.getGPUs()\n",
        "# XXX: only one GPU on Colab and isn’t guaranteed\n",
        "gpu = GPUs[0]\n",
        "def printm():\n",
        " process = psutil.Process(os.getpid())\n",
        " print(\"Gen RAM Free: \" + humanize.naturalsize( psutil.virtual_memory().available ), \" I Proc size: \" + humanize.naturalsize( process.memory_info().rss))\n",
        " print(\"GPU RAM Free: {0:.0f}MB | Used: {1:.0f}MB | Util {2:3.0f}% | Total {3:.0f}MB\".format(gpu.memoryFree, gpu.memoryUsed, gpu.memoryUtil*100, gpu.memoryTotal))\n",
        "printm()"
      ],
      "execution_count": 16,
      "outputs": [
        {
          "output_type": "stream",
          "text": [
            "Requirement already satisfied: gputil in /usr/local/lib/python3.6/dist-packages (1.3.0)\r\n",
            "Requirement already satisfied: numpy in /usr/local/lib/python3.6/dist-packages (from gputil) (1.14.3)\n",
            "\u001b[31mtorchvision 0.2.1 has requirement pillow>=4.1.1, but you'll have pillow 4.0.0 which is incompatible.\u001b[0m\n",
            "Requirement already satisfied: psutil in /usr/local/lib/python3.6/dist-packages (5.4.5)\n",
            "\u001b[31mtorchvision 0.2.1 has requirement pillow>=4.1.1, but you'll have pillow 4.0.0 which is incompatible.\u001b[0m\n",
            "Requirement already satisfied: humanize in /usr/local/lib/python3.6/dist-packages (0.5.1)\n",
            "\u001b[31mtorchvision 0.2.1 has requirement pillow>=4.1.1, but you'll have pillow 4.0.0 which is incompatible.\u001b[0m\n",
            "Gen RAM Free: 12.6 GB  I Proc size: 199.0 MB\n",
            "GPU RAM Free: 11438MB | Used: 1MB | Util   0% | Total 11439MB\n"
          ],
          "name": "stdout"
        }
      ]
    },
    {
      "metadata": {
        "id": "HicZEInxnZtb",
        "colab_type": "code",
        "colab": {
          "base_uri": "https://localhost:8080/",
          "height": 34
        },
        "outputId": "2fb8ea41-aaa0-4eed-9a05-474e999c069a"
      },
      "cell_type": "code",
      "source": [
        "ls"
      ],
      "execution_count": 2,
      "outputs": [
        {
          "output_type": "stream",
          "text": [
            "\u001b[0m\u001b[01;34mdatalab\u001b[0m/\r\n"
          ],
          "name": "stdout"
        }
      ]
    },
    {
      "metadata": {
        "id": "UrlaSAp1Gt6o",
        "colab_type": "code",
        "colab": {
          "base_uri": "https://localhost:8080/",
          "height": 134
        },
        "outputId": "3216f68b-3fcd-4eb3-faf0-ef93ca90e008"
      },
      "cell_type": "code",
      "source": [
        "!pip3 install http://download.pytorch.org/whl/cu80/torch-0.3.0.post4-cp36-cp36m-linux_x86_64.whl "
      ],
      "execution_count": 3,
      "outputs": [
        {
          "output_type": "stream",
          "text": [
            "Collecting torch==0.3.0.post4 from http://download.pytorch.org/whl/cu80/torch-0.3.0.post4-cp36-cp36m-linux_x86_64.whl\n",
            "\u001b[?25l  Downloading http://download.pytorch.org/whl/cu80/torch-0.3.0.post4-cp36-cp36m-linux_x86_64.whl (592.3MB)\n",
            "\u001b[K    100% |████████████████████████████████| 592.3MB 54.1MB/s \n",
            "\u001b[?25hRequirement already satisfied: pyyaml in /usr/local/lib/python3.6/dist-packages (from torch==0.3.0.post4) (3.12)\n",
            "Requirement already satisfied: numpy in /usr/local/lib/python3.6/dist-packages (from torch==0.3.0.post4) (1.14.3)\n",
            "Installing collected packages: torch\n",
            "Successfully installed torch-0.3.0.post4\n"
          ],
          "name": "stdout"
        }
      ]
    },
    {
      "metadata": {
        "id": "iwuIW56WEEK7",
        "colab_type": "code",
        "colab": {
          "base_uri": "https://localhost:8080/",
          "height": 672
        },
        "outputId": "137e5dd5-d5a2-4edf-da9d-c0e78404f8b4"
      },
      "cell_type": "code",
      "source": [
        "!pip3 install numpy matplotlib torchvision Pillow visdom"
      ],
      "execution_count": 4,
      "outputs": [
        {
          "output_type": "stream",
          "text": [
            "Requirement already satisfied: numpy in /usr/local/lib/python3.6/dist-packages (1.14.3)\r\n",
            "Requirement already satisfied: matplotlib in /usr/local/lib/python3.6/dist-packages (2.1.2)\r\n",
            "Collecting torchvision\n",
            "\u001b[?25l  Downloading https://files.pythonhosted.org/packages/ca/0d/f00b2885711e08bd71242ebe7b96561e6f6d01fdb4b9dcf4d37e2e13c5e1/torchvision-0.2.1-py2.py3-none-any.whl (54kB)\n",
            "\u001b[K    100% |████████████████████████████████| 61kB 4.3MB/s \n",
            "\u001b[?25hRequirement already satisfied: Pillow in /usr/local/lib/python3.6/dist-packages (4.0.0)\n",
            "Collecting visdom\n",
            "\u001b[?25l  Downloading https://files.pythonhosted.org/packages/36/f3/ff45f75cadf791e00248af88f98359b4d53da21ba98496406fa08b2bcc6a/visdom-0.1.8.3.tar.gz (235kB)\n",
            "\u001b[K    100% |████████████████████████████████| 235kB 9.7MB/s \n",
            "\u001b[?25hRequirement already satisfied: pyparsing!=2.0.4,!=2.1.2,!=2.1.6,>=2.0.1 in /usr/local/lib/python3.6/dist-packages (from matplotlib) (2.2.0)\n",
            "Requirement already satisfied: six>=1.10 in /usr/local/lib/python3.6/dist-packages (from matplotlib) (1.11.0)\n",
            "Requirement already satisfied: cycler>=0.10 in /usr/local/lib/python3.6/dist-packages (from matplotlib) (0.10.0)\n",
            "Requirement already satisfied: pytz in /usr/local/lib/python3.6/dist-packages (from matplotlib) (2018.4)\n",
            "Requirement already satisfied: python-dateutil>=2.1 in /usr/local/lib/python3.6/dist-packages (from matplotlib) (2.5.3)\n",
            "Requirement already satisfied: torch in /usr/local/lib/python3.6/dist-packages (from torchvision) (0.3.0.post4)\n",
            "Requirement already satisfied: olefile in /usr/local/lib/python3.6/dist-packages (from Pillow) (0.45.1)\n",
            "Requirement already satisfied: scipy in /usr/local/lib/python3.6/dist-packages (from visdom) (0.19.1)\n",
            "Requirement already satisfied: requests in /usr/local/lib/python3.6/dist-packages (from visdom) (2.18.4)\n",
            "Requirement already satisfied: tornado in /usr/local/lib/python3.6/dist-packages (from visdom) (4.5.3)\n",
            "Requirement already satisfied: pyzmq in /usr/local/lib/python3.6/dist-packages (from visdom) (16.0.4)\n",
            "Collecting torchfile (from visdom)\n",
            "  Downloading https://files.pythonhosted.org/packages/91/af/5b305f86f2d218091af657ddb53f984ecbd9518ca9fe8ef4103a007252c9/torchfile-0.1.0.tar.gz\n",
            "Collecting websocket-client (from visdom)\n",
            "\u001b[?25l  Downloading https://files.pythonhosted.org/packages/8a/a1/72ef9aa26cfe1a75cee09fc1957e4723add9de098c15719416a1ee89386b/websocket_client-0.48.0-py2.py3-none-any.whl (198kB)\n",
            "\u001b[K    100% |████████████████████████████████| 204kB 11.0MB/s \n",
            "\u001b[?25hRequirement already satisfied: pyyaml in /usr/local/lib/python3.6/dist-packages (from torch->torchvision) (3.12)\n",
            "Requirement already satisfied: urllib3<1.23,>=1.21.1 in /usr/local/lib/python3.6/dist-packages (from requests->visdom) (1.22)\n",
            "Requirement already satisfied: chardet<3.1.0,>=3.0.2 in /usr/local/lib/python3.6/dist-packages (from requests->visdom) (3.0.4)\n",
            "Requirement already satisfied: certifi>=2017.4.17 in /usr/local/lib/python3.6/dist-packages (from requests->visdom) (2018.4.16)\n",
            "Requirement already satisfied: idna<2.7,>=2.5 in /usr/local/lib/python3.6/dist-packages (from requests->visdom) (2.6)\n",
            "Building wheels for collected packages: visdom, torchfile\n",
            "  Running setup.py bdist_wheel for visdom ... \u001b[?25l-\b \b\\\b \bdone\n",
            "\u001b[?25h  Stored in directory: /content/.cache/pip/wheels/9c/41/c5/671c9e6800a90351016927371ddeca2f99ddaca711b4da58f5\n",
            "  Running setup.py bdist_wheel for torchfile ... \u001b[?25l-\b \bdone\n",
            "\u001b[?25h  Stored in directory: /content/.cache/pip/wheels/b1/c3/d6/9a1cc8f3a99a0fc1124cae20153f36af59a6e683daca0a0814\n",
            "Successfully built visdom torchfile\n",
            "\u001b[31mtorchvision 0.2.1 has requirement pillow>=4.1.1, but you'll have pillow 4.0.0 which is incompatible.\u001b[0m\n",
            "Installing collected packages: torchvision, torchfile, websocket-client, visdom\n",
            "Successfully installed torchfile-0.1.0 torchvision-0.2.1 visdom-0.1.8.3 websocket-client-0.48.0\n"
          ],
          "name": "stdout"
        }
      ]
    },
    {
      "metadata": {
        "id": "T3KONFD0Dw1T",
        "colab_type": "code",
        "colab": {
          "base_uri": "https://localhost:8080/",
          "height": 118
        },
        "outputId": "c1b02d28-2156-4e54-bf6c-d270590cf6f2"
      },
      "cell_type": "code",
      "source": [
        "!git clone https://github.com/heumchri/erfnet_pytorch.git"
      ],
      "execution_count": 6,
      "outputs": [
        {
          "output_type": "stream",
          "text": [
            "Cloning into 'erfnet_pytorch'...\n",
            "remote: Counting objects: 223, done.\u001b[K\n",
            "remote: Compressing objects: 100% (6/6), done.\u001b[K\n",
            "remote: Total 223 (delta 2), reused 0 (delta 0), pack-reused 217\u001b[K\n",
            "Receiving objects: 100% (223/223), 22.40 MiB | 18.98 MiB/s, done.\n",
            "Resolving deltas: 100% (128/128), done.\n"
          ],
          "name": "stdout"
        }
      ]
    },
    {
      "metadata": {
        "id": "44EELRylIhEP",
        "colab_type": "code",
        "colab": {
          "base_uri": "https://localhost:8080/",
          "height": 34
        },
        "outputId": "bd107641-0aae-410a-abb5-eea844aeaa54"
      },
      "cell_type": "code",
      "source": [
        "cd erfnet_pytorch/"
      ],
      "execution_count": 7,
      "outputs": [
        {
          "output_type": "stream",
          "text": [
            "/content/erfnet_pytorch\n"
          ],
          "name": "stdout"
        }
      ]
    },
    {
      "metadata": {
        "id": "sA8Bns79md5S",
        "colab_type": "code",
        "colab": {
          "base_uri": "https://localhost:8080/",
          "height": 50
        },
        "outputId": "724f7a4f-cd59-449e-dc37-14a0d1442f2d"
      },
      "cell_type": "code",
      "source": [
        "cd eval/"
      ],
      "execution_count": 9,
      "outputs": [
        {
          "output_type": "stream",
          "text": [
            "[Errno 2] No such file or directory: 'eval/'\n",
            "/content/erfnet_pytorch/eval\n"
          ],
          "name": "stdout"
        }
      ]
    },
    {
      "metadata": {
        "id": "BnDRPxrJms9j",
        "colab_type": "code",
        "colab": {
          "base_uri": "https://localhost:8080/",
          "height": 1714
        },
        "outputId": "f2447e8e-243a-4a3c-e302-eb01b64da0e3"
      },
      "cell_type": "code",
      "source": [
        "!python3 eval_forwardTime.py --batch-size 1"
      ],
      "execution_count": 15,
      "outputs": [
        {
          "output_type": "stream",
          "text": [
            "Forward time per img (b=1): 0.071 (Mean: 0.071)\n",
            "Forward time per img (b=1): 0.071 (Mean: 0.071)\n",
            "Forward time per img (b=1): 0.071 (Mean: 0.071)\n",
            "Forward time per img (b=1): 0.071 (Mean: 0.071)\n",
            "Forward time per img (b=1): 0.071 (Mean: 0.071)\n",
            "Forward time per img (b=1): 0.071 (Mean: 0.071)\n",
            "Forward time per img (b=1): 0.071 (Mean: 0.071)\n",
            "Forward time per img (b=1): 0.071 (Mean: 0.071)\n",
            "Forward time per img (b=1): 0.071 (Mean: 0.071)\n",
            "Forward time per img (b=1): 0.071 (Mean: 0.071)\n",
            "Forward time per img (b=1): 0.071 (Mean: 0.071)\n",
            "Forward time per img (b=1): 0.071 (Mean: 0.071)\n",
            "Forward time per img (b=1): 0.071 (Mean: 0.071)\n",
            "Forward time per img (b=1): 0.071 (Mean: 0.071)\n",
            "Forward time per img (b=1): 0.071 (Mean: 0.071)\n",
            "Forward time per img (b=1): 0.071 (Mean: 0.071)\n",
            "Forward time per img (b=1): 0.071 (Mean: 0.071)\n",
            "Forward time per img (b=1): 0.071 (Mean: 0.071)\n",
            "Forward time per img (b=1): 0.071 (Mean: 0.071)\n",
            "Forward time per img (b=1): 0.071 (Mean: 0.071)\n",
            "Forward time per img (b=1): 0.071 (Mean: 0.071)\n",
            "Forward time per img (b=1): 0.071 (Mean: 0.071)\n",
            "Forward time per img (b=1): 0.086 (Mean: 0.072)\n",
            "Forward time per img (b=1): 0.086 (Mean: 0.072)\n",
            "Forward time per img (b=1): 0.096 (Mean: 0.073)\n",
            "Forward time per img (b=1): 0.096 (Mean: 0.074)\n",
            "Forward time per img (b=1): 0.096 (Mean: 0.075)\n",
            "Forward time per img (b=1): 0.097 (Mean: 0.076)\n",
            "Forward time per img (b=1): 0.096 (Mean: 0.076)\n",
            "Forward time per img (b=1): 0.096 (Mean: 0.077)\n",
            "Forward time per img (b=1): 0.096 (Mean: 0.078)\n",
            "Forward time per img (b=1): 0.096 (Mean: 0.078)\n",
            "Forward time per img (b=1): 0.096 (Mean: 0.079)\n",
            "Forward time per img (b=1): 0.096 (Mean: 0.079)\n",
            "Forward time per img (b=1): 0.097 (Mean: 0.080)\n",
            "Forward time per img (b=1): 0.096 (Mean: 0.080)\n",
            "Forward time per img (b=1): 0.096 (Mean: 0.081)\n",
            "Forward time per img (b=1): 0.096 (Mean: 0.081)\n",
            "Forward time per img (b=1): 0.096 (Mean: 0.081)\n",
            "Forward time per img (b=1): 0.096 (Mean: 0.082)\n",
            "Forward time per img (b=1): 0.096 (Mean: 0.082)\n",
            "Forward time per img (b=1): 0.096 (Mean: 0.082)\n",
            "Forward time per img (b=1): 0.096 (Mean: 0.083)\n",
            "Forward time per img (b=1): 0.096 (Mean: 0.083)\n",
            "Forward time per img (b=1): 0.101 (Mean: 0.083)\n",
            "Forward time per img (b=1): 0.101 (Mean: 0.084)\n",
            "Forward time per img (b=1): 0.101 (Mean: 0.084)\n",
            "Forward time per img (b=1): 0.101 (Mean: 0.085)\n",
            "Forward time per img (b=1): 0.101 (Mean: 0.085)\n",
            "Forward time per img (b=1): 0.101 (Mean: 0.085)\n",
            "Forward time per img (b=1): 0.101 (Mean: 0.086)\n",
            "Forward time per img (b=1): 0.101 (Mean: 0.086)\n",
            "Forward time per img (b=1): 0.101 (Mean: 0.086)\n",
            "Forward time per img (b=1): 0.100 (Mean: 0.086)\n",
            "Forward time per img (b=1): 0.100 (Mean: 0.087)\n",
            "Forward time per img (b=1): 0.101 (Mean: 0.087)\n",
            "Forward time per img (b=1): 0.101 (Mean: 0.087)\n",
            "Forward time per img (b=1): 0.101 (Mean: 0.087)\n",
            "Forward time per img (b=1): 0.101 (Mean: 0.088)\n",
            "Forward time per img (b=1): 0.101 (Mean: 0.088)\n",
            "Forward time per img (b=1): 0.101 (Mean: 0.088)\n",
            "Forward time per img (b=1): 0.101 (Mean: 0.088)\n",
            "Forward time per img (b=1): 0.101 (Mean: 0.088)\n",
            "Forward time per img (b=1): 0.101 (Mean: 0.089)\n"
          ],
          "name": "stdout"
        },
        {
          "output_type": "stream",
          "text": [
            "Forward time per img (b=1): 0.101 (Mean: 0.089)\n",
            "Forward time per img (b=1): 0.101 (Mean: 0.089)\n",
            "Forward time per img (b=1): 0.101 (Mean: 0.089)\n",
            "Forward time per img (b=1): 0.101 (Mean: 0.089)\n",
            "Forward time per img (b=1): 0.101 (Mean: 0.089)\n",
            "Forward time per img (b=1): 0.101 (Mean: 0.090)\n",
            "Forward time per img (b=1): 0.101 (Mean: 0.090)\n",
            "Forward time per img (b=1): 0.101 (Mean: 0.090)\n",
            "Forward time per img (b=1): 0.101 (Mean: 0.090)\n",
            "Forward time per img (b=1): 0.101 (Mean: 0.090)\n",
            "Forward time per img (b=1): 0.100 (Mean: 0.090)\n",
            "Forward time per img (b=1): 0.101 (Mean: 0.090)\n",
            "Forward time per img (b=1): 0.101 (Mean: 0.091)\n",
            "Forward time per img (b=1): 0.101 (Mean: 0.091)\n",
            "Forward time per img (b=1): 0.101 (Mean: 0.091)\n",
            "Forward time per img (b=1): 0.101 (Mean: 0.091)\n",
            "Forward time per img (b=1): 0.101 (Mean: 0.091)\n",
            "Forward time per img (b=1): 0.101 (Mean: 0.091)\n",
            "Forward time per img (b=1): 0.101 (Mean: 0.091)\n",
            "Forward time per img (b=1): 0.101 (Mean: 0.091)\n",
            "Forward time per img (b=1): 0.101 (Mean: 0.092)\n",
            "Forward time per img (b=1): 0.101 (Mean: 0.092)\n",
            "Forward time per img (b=1): 0.101 (Mean: 0.092)\n",
            "Forward time per img (b=1): 0.101 (Mean: 0.092)\n",
            "Forward time per img (b=1): 0.101 (Mean: 0.092)\n",
            "Forward time per img (b=1): 0.101 (Mean: 0.092)\n",
            "Forward time per img (b=1): 0.101 (Mean: 0.092)\n",
            "Forward time per img (b=1): 0.101 (Mean: 0.092)\n",
            "Forward time per img (b=1): 0.101 (Mean: 0.092)\n",
            "Forward time per img (b=1): 0.101 (Mean: 0.092)\n",
            "^C\n",
            "Traceback (most recent call last):\n",
            "  File \"eval_forwardTime.py\", line 69, in <module>\n",
            "    main(parser.parse_args())\n",
            "  File \"eval_forwardTime.py\", line 57, in main\n",
            "    time.sleep(1)   #to avoid overheating the GPU too much\n",
            "KeyboardInterrupt\n"
          ],
          "name": "stdout"
        }
      ]
    },
    {
      "metadata": {
        "id": "gpSTzgwTE9p_",
        "colab_type": "code",
        "colab": {}
      },
      "cell_type": "code",
      "source": [
        "!mkdir datasets"
      ],
      "execution_count": 0,
      "outputs": []
    },
    {
      "metadata": {
        "id": "ciPHMSOsFq8y",
        "colab_type": "code",
        "colab": {
          "base_uri": "https://localhost:8080/",
          "height": 34
        },
        "outputId": "ce1d513e-4927-4b75-ca3e-b206056c2463"
      },
      "cell_type": "code",
      "source": [
        "cd datasets/"
      ],
      "execution_count": 0,
      "outputs": [
        {
          "output_type": "stream",
          "text": [
            "/content/erfnet_pytorch/datasets\n"
          ],
          "name": "stdout"
        }
      ]
    },
    {
      "metadata": {
        "id": "gJiq_qHoZF9D",
        "colab_type": "code",
        "colab": {
          "base_uri": "https://localhost:8080/",
          "height": 202
        },
        "outputId": "c8fe54ff-d020-472a-bb9c-4e5da91e467a"
      },
      "cell_type": "code",
      "source": [
        "!wget --keep-session-cookies --save-cookies=cookies.txt --post-data 'username=heumchri&password=XXXXXXX&submit=Login' https://www.cityscapes-dataset.com/login/"
      ],
      "execution_count": 0,
      "outputs": [
        {
          "output_type": "stream",
          "text": [
            "--2018-06-06 09:45:50--  https://www.cityscapes-dataset.com/login/\r\n",
            "Resolving www.cityscapes-dataset.com (www.cityscapes-dataset.com)... 139.19.217.8\n",
            "Connecting to www.cityscapes-dataset.com (www.cityscapes-dataset.com)|139.19.217.8|:443... connected.\n",
            "HTTP request sent, awaiting response... 200 OK\n",
            "Length: unspecified [text/html]\n",
            "Saving to: ‘index.html.5’\n",
            "\n",
            "index.html.5            [ <=>                ]  24.88K  --.-KB/s    in 0.07s   \n",
            "\n",
            "2018-06-06 09:45:50 (341 KB/s) - ‘index.html.5’ saved [25482]\n",
            "\n"
          ],
          "name": "stdout"
        }
      ]
    },
    {
      "metadata": {
        "id": "aAMF4M0WZU2Q",
        "colab_type": "code",
        "colab": {
          "base_uri": "https://localhost:8080/",
          "height": 269
        },
        "outputId": "a078dc82-52bc-4748-bae1-f95ac9bd169c"
      },
      "cell_type": "code",
      "source": [
        "!wget --load-cookies cookies.txt --content-disposition https://www.cityscapes-dataset.com/file-handling/?packageID=1\n",
        "!wget --load-cookies cookies.txt --content-disposition https://www.cityscapes-dataset.com/file-handling/?packageID=3"
      ],
      "execution_count": 0,
      "outputs": [
        {
          "output_type": "stream",
          "text": [
            "--2018-06-06 09:39:48--  https://www.cityscapes-dataset.com/file-handling/?packageID=3\r\n",
            "Resolving www.cityscapes-dataset.com (www.cityscapes-dataset.com)... 139.19.217.8\r\n",
            "Connecting to www.cityscapes-dataset.com (www.cityscapes-dataset.com)|139.19.217.8|:443... connected.\n",
            "HTTP request sent, awaiting response... 302 Found\n",
            "Location: https://www.cityscapes-dataset.com/login/ [following]\n",
            "--2018-06-06 09:39:49--  https://www.cityscapes-dataset.com/login/\n",
            "Reusing existing connection to www.cityscapes-dataset.com:443.\n",
            "HTTP request sent, awaiting response... 200 OK\n",
            "Length: unspecified [text/html]\n",
            "Saving to: ‘index.html?packageID=3.2’\n",
            "\n",
            "index.html?packageI     [ <=>                ]  24.79K  --.-KB/s    in 0.07s   \n",
            "\n",
            "2018-06-06 09:39:49 (353 KB/s) - ‘index.html?packageID=3.2’ saved [25383]\n",
            "\n"
          ],
          "name": "stdout"
        }
      ]
    },
    {
      "metadata": {
        "id": "GIWWEIcwtyoD",
        "colab_type": "code",
        "colab": {}
      },
      "cell_type": "code",
      "source": [
        "#!kill -9 -1"
      ],
      "execution_count": 0,
      "outputs": []
    }
  ]
}